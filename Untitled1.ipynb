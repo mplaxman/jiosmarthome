{
 "cells": [
  {
   "cell_type": "code",
   "execution_count": 10,
   "id": "4f0d9c27",
   "metadata": {},
   "outputs": [
    {
     "name": "stdout",
     "output_type": "stream",
     "text": [
      "1\n",
      "primenumbers 2\n",
      "3\n",
      "primenumbers 4\n",
      "5\n",
      "primenumbers 6\n",
      "7\n",
      "primenumbers 8\n"
     ]
    }
   ],
   "source": [
    "ls=[1,2,3,4,5,6,7,8]\n",
    "n=len(ls)\n",
    "\n",
    "\n",
    "for i in range (n) :\n",
    "    \n",
    "    if(ls[i]%2==0):\n",
    "        \n",
    "        print(\"primenumbers\",ls[i])\n",
    "    else:\n",
    "        print(ls[i])"
   ]
  },
  {
   "cell_type": "code",
   "execution_count": 18,
   "id": "df0f597b",
   "metadata": {},
   "outputs": [
    {
     "name": "stdout",
     "output_type": "stream",
     "text": [
      "67\n",
      "mean: 31.88888888888889\n"
     ]
    }
   ],
   "source": [
    "A=[1,3,67,78,65,3,2,1,67]\n",
    "\n",
    "S=sum(A)\n",
    "L=len(A)\n",
    "m= S/L\n",
    "\n",
    "N=L-1\n",
    "\n",
    "if(L%2):\n",
    "    print(A[N])\n",
    "\n",
    "sorted_a=sorted(A)\n",
    "\n",
    "print(\"mean:\",m)"
   ]
  },
  {
   "cell_type": "code",
   "execution_count": null,
   "id": "f23ed5cd",
   "metadata": {},
   "outputs": [],
   "source": []
  }
 ],
 "metadata": {
  "kernelspec": {
   "display_name": "Python 3",
   "language": "python",
   "name": "python3"
  },
  "language_info": {
   "codemirror_mode": {
    "name": "ipython",
    "version": 3
   },
   "file_extension": ".py",
   "mimetype": "text/x-python",
   "name": "python",
   "nbconvert_exporter": "python",
   "pygments_lexer": "ipython3",
   "version": "3.8.11"
  }
 },
 "nbformat": 4,
 "nbformat_minor": 5
}
